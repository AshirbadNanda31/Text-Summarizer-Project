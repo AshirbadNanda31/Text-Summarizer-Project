{
 "cells": [
  {
   "cell_type": "code",
   "execution_count": 5,
   "id": "a38fe3b2",
   "metadata": {},
   "outputs": [],
   "source": [
    "import os\n"
   ]
  },
  {
   "cell_type": "code",
   "execution_count": 6,
   "id": "0009e926",
   "metadata": {},
   "outputs": [
    {
     "data": {
      "text/plain": [
       "'e:\\\\Projects\\\\Text-Summarizer-Project\\\\research'"
      ]
     },
     "execution_count": 6,
     "metadata": {},
     "output_type": "execute_result"
    }
   ],
   "source": [
    "%pwd"
   ]
  },
  {
   "cell_type": "code",
   "execution_count": 7,
   "id": "eb5c8b25",
   "metadata": {},
   "outputs": [],
   "source": [
    "os.chdir(\"../\")"
   ]
  },
  {
   "cell_type": "code",
   "execution_count": 8,
   "id": "d8d81450",
   "metadata": {},
   "outputs": [
    {
     "data": {
      "text/plain": [
       "'e:\\\\Projects\\\\Text-Summarizer-Project'"
      ]
     },
     "execution_count": 8,
     "metadata": {},
     "output_type": "execute_result"
    }
   ],
   "source": [
    "%pwd"
   ]
  },
  {
   "cell_type": "code",
   "execution_count": 9,
   "id": "f3056f81",
   "metadata": {},
   "outputs": [],
   "source": [
    "from dataclasses import dataclass\n",
    "from pathlib import Path\n",
    "\n",
    "@dataclass(frozen=True)\n",
    "class DataInjestionConfig:\n",
    "    root_dir: Path\n",
    "    source_URL: str\n",
    "    local_data_file: Path\n",
    "    unzip_dir: Path"
   ]
  },
  {
   "cell_type": "code",
   "execution_count": 10,
   "id": "30017b14",
   "metadata": {},
   "outputs": [
    {
     "name": "stdout",
     "output_type": "stream",
     "text": [
      "Obtaining file:///E:/Projects\n",
      "Note: you may need to restart the kernel to use updated packages.\n"
     ]
    },
    {
     "name": "stderr",
     "output_type": "stream",
     "text": [
      "ERROR: file:///E:/Projects does not appear to be a Python project: neither 'setup.py' nor 'pyproject.toml' found.\n"
     ]
    }
   ],
   "source": [
    "%pip install -e ../"
   ]
  },
  {
   "cell_type": "code",
   "execution_count": 11,
   "id": "f99b5002",
   "metadata": {},
   "outputs": [],
   "source": [
    "from setuptools import find_packages\n",
    "\n",
    "packages = find_packages(\"src\")\n",
    "package_dir = {\"\": \"src\"}\n"
   ]
  },
  {
   "cell_type": "code",
   "execution_count": 12,
   "id": "5349f1df",
   "metadata": {},
   "outputs": [],
   "source": [
    "import sys\n",
    "sys.path.append(\"/e/Projects/Text-Summarizer-Project/src\")\n",
    "\n"
   ]
  },
  {
   "cell_type": "code",
   "execution_count": 16,
   "id": "8f5b2670",
   "metadata": {},
   "outputs": [],
   "source": [
    "from textSummarizer.constants import *\n",
    "from textSummarizer.utils.common import read_yaml, create_directories"
   ]
  },
  {
   "cell_type": "code",
   "execution_count": 32,
   "id": "d194a334",
   "metadata": {},
   "outputs": [],
   "source": [
    "from pathlib import Path  # Make sure this is imported if you're using Path objects\n",
    "\n",
    "class ConfigurationManager:\n",
    "    def __init__(self,\n",
    "                 config_filepath=CONFIG_FILE_PATH,\n",
    "                 params_filepath=PARAMS_FILE_PATH):\n",
    "        # Convert to string before passing to read_yaml\n",
    "        self.config = read_yaml(str(config_filepath))\n",
    "        self.params = read_yaml(str(params_filepath))\n",
    "        \n",
    "        create_directories([self.config.artifacts_root])\n",
    "                \n",
    "    def get_data_ingestion_config(self) -> DataInjestionConfig:\n",
    "        config = self.config.data_ingestion\n",
    "        create_directories([config.root_dir])\n",
    "        \n",
    "        data_ingestion_config = DataInjestionConfig(\n",
    "            root_dir = config.root_dir,\n",
    "            source_URL = config.source_URL,\n",
    "            local_data_file = Path(config.local_data_file),\n",
    "            unzip_dir = Path(config.unzip_dir)\n",
    "        )\n",
    "        return data_ingestion_config"
   ]
  },
  {
   "cell_type": "code",
   "execution_count": 27,
   "id": "a15cccef",
   "metadata": {},
   "outputs": [],
   "source": [
    "import os\n",
    "import urllib.request as request\n",
    "import zipfile\n",
    "from textSummarizer.logging import logger\n",
    "from textSummarizer.utils.common import get_size\n"
   ]
  },
  {
   "cell_type": "code",
   "execution_count": 23,
   "id": "3ffb45a0",
   "metadata": {},
   "outputs": [],
   "source": [
    "class DataInjestion:\n",
    "    def __init__(self, config: DataInjestionConfig):\n",
    "        self.config = config\n",
    "\n",
    "    def download_file(self):\n",
    "        if not os.path.exists(self.config.local_data_file):\n",
    "           filename, headers = request.urlretrieve(\n",
    "               url = self.config.source_URL,\n",
    "               filename = self.config.local_data_file\n",
    "           )\n",
    "           logger.info(f\"{filename} downloaded with following info: \\n{headers}\")\n",
    "        else:\n",
    "            logger.info(f\"File already exists with size: {get_size(Path(self.config.local_data_file))}\")\n",
    "            \n",
    "            \n",
    "    def extract_zip_file(self):\n",
    "        \"\"\"\n",
    "        zip_file_path: str\n",
    "        Extracts the zip file into the directory\n",
    "        Function returns None\n",
    "        \"\"\"\n",
    "        unzip_path = self.config.unzip_dir\n",
    "        os.makedirs(unzip_path, exist_ok=True)\n",
    "        with zipfile.ZipFile(self.config.local_data_file, 'r') as zip_ref:\n",
    "            zip_ref.extractall(unzip_path)"
   ]
  },
  {
   "cell_type": "code",
   "execution_count": 31,
   "id": "38315eeb",
   "metadata": {},
   "outputs": [
    {
     "name": "stdout",
     "output_type": "stream",
     "text": [
      "[2025-05-22 21:27:15,780: INFO: common: YAML file: config\\config.yaml loaded successfully]\n",
      "[2025-05-22 21:27:15,921: INFO: common: YAML file: params.yaml loaded successfully]\n",
      "[2025-05-22 21:27:15,951: INFO: common: Created directory at: artifacts]\n",
      "[2025-05-22 21:27:15,955: INFO: common: Created directory at: artifacts/data_ingestion]\n",
      "[2025-05-22 21:27:15,957: ERROR: 3373676244: An error occurred: name 'Pathconfig' is not defined]\n"
     ]
    },
    {
     "ename": "NameError",
     "evalue": "name 'Pathconfig' is not defined",
     "output_type": "error",
     "traceback": [
      "\u001b[1;31m---------------------------------------------------------------------------\u001b[0m",
      "\u001b[1;31mNameError\u001b[0m                                 Traceback (most recent call last)",
      "Cell \u001b[1;32mIn[31], line 9\u001b[0m\n\u001b[0;32m      7\u001b[0m \u001b[38;5;28;01mexcept\u001b[39;00m \u001b[38;5;167;01mException\u001b[39;00m \u001b[38;5;28;01mas\u001b[39;00m e:\n\u001b[0;32m      8\u001b[0m     logger\u001b[38;5;241m.\u001b[39merror(\u001b[38;5;124mf\u001b[39m\u001b[38;5;124m\"\u001b[39m\u001b[38;5;124mAn error occurred: \u001b[39m\u001b[38;5;132;01m{\u001b[39;00me\u001b[38;5;132;01m}\u001b[39;00m\u001b[38;5;124m\"\u001b[39m)\n\u001b[1;32m----> 9\u001b[0m     \u001b[38;5;28;01mraise\u001b[39;00m e\n",
      "Cell \u001b[1;32mIn[31], line 3\u001b[0m\n\u001b[0;32m      1\u001b[0m \u001b[38;5;28;01mtry\u001b[39;00m:\n\u001b[0;32m      2\u001b[0m     config \u001b[38;5;241m=\u001b[39m ConfigurationManager()\n\u001b[1;32m----> 3\u001b[0m     data_ingestion_config \u001b[38;5;241m=\u001b[39m config\u001b[38;5;241m.\u001b[39mget_data_ingestion_config()\n\u001b[0;32m      4\u001b[0m     data_ingestion \u001b[38;5;241m=\u001b[39m DataInjestion(config\u001b[38;5;241m=\u001b[39mdata_ingestion_config)\n\u001b[0;32m      5\u001b[0m     data_ingestion\u001b[38;5;241m.\u001b[39mdownload_file()\n",
      "Cell \u001b[1;32mIn[26], line 20\u001b[0m, in \u001b[0;36mConfigurationManager.get_data_ingestion_config\u001b[1;34m(self)\u001b[0m\n\u001b[0;32m     14\u001b[0m config \u001b[38;5;241m=\u001b[39m \u001b[38;5;28mself\u001b[39m\u001b[38;5;241m.\u001b[39mconfig\u001b[38;5;241m.\u001b[39mdata_ingestion\n\u001b[0;32m     15\u001b[0m create_directories([config\u001b[38;5;241m.\u001b[39mroot_dir])\n\u001b[0;32m     17\u001b[0m data_ingestion_config \u001b[38;5;241m=\u001b[39m DataInjestionConfig(\n\u001b[0;32m     18\u001b[0m     root_dir \u001b[38;5;241m=\u001b[39m config\u001b[38;5;241m.\u001b[39mroot_dir,\n\u001b[0;32m     19\u001b[0m     source_URL \u001b[38;5;241m=\u001b[39m config\u001b[38;5;241m.\u001b[39msource_URL,\n\u001b[1;32m---> 20\u001b[0m     local_data_file \u001b[38;5;241m=\u001b[39m Pathconfig\u001b[38;5;241m.\u001b[39mlocal_data_file,\n\u001b[0;32m     21\u001b[0m     unzip_dir \u001b[38;5;241m=\u001b[39m Pathconfig\u001b[38;5;241m.\u001b[39munzip_dir\n\u001b[0;32m     22\u001b[0m )\n\u001b[0;32m     23\u001b[0m \u001b[38;5;28;01mreturn\u001b[39;00m data_ingestion_config\n",
      "\u001b[1;31mNameError\u001b[0m: name 'Pathconfig' is not defined"
     ]
    }
   ],
   "source": [
    "try:\n",
    "    config = ConfigurationManager()\n",
    "    data_ingestion_config = config.get_data_ingestion_config()\n",
    "    data_ingestion = DataInjestion(config=data_ingestion_config)\n",
    "    data_ingestion.download_file()\n",
    "    data_ingestion.extract_zip_file()\n",
    "except Exception as e:\n",
    "    logger.error(f\"An error occurred: {e}\")\n",
    "    raise e"
   ]
  },
  {
   "cell_type": "code",
   "execution_count": null,
   "id": "9c3d21d7",
   "metadata": {},
   "outputs": [],
   "source": []
  }
 ],
 "metadata": {
  "kernelspec": {
   "display_name": "Python 3",
   "language": "python",
   "name": "python3"
  },
  "language_info": {
   "codemirror_mode": {
    "name": "ipython",
    "version": 3
   },
   "file_extension": ".py",
   "mimetype": "text/x-python",
   "name": "python",
   "nbconvert_exporter": "python",
   "pygments_lexer": "ipython3",
   "version": "3.12.4"
  }
 },
 "nbformat": 4,
 "nbformat_minor": 5
}
